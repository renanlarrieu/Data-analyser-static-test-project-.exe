{
  "nbformat": 4,
  "nbformat_minor": 0,
  "metadata": {
    "colab": {
      "name": "FERRAMENTA GRAFICA.ipynb",
      "provenance": [],
      "collapsed_sections": [],
      "authorship_tag": "ABX9TyM+wsDPh2kE5GIqT9cqt+Eu",
      "include_colab_link": true
    },
    "kernelspec": {
      "name": "python3",
      "display_name": "Python 3"
    }
  },
  "cells": [
    {
      "cell_type": "markdown",
      "metadata": {
        "id": "view-in-github",
        "colab_type": "text"
      },
      "source": [
        "<a href=\"https://colab.research.google.com/github/renanlarrieu/Data-analyser-static-test-project-.exe/blob/master/inital%20graph%20maker.ipynb\" target=\"_parent\"><img src=\"https://colab.research.google.com/assets/colab-badge.svg\" alt=\"Open In Colab\"/></a>"
      ]
    },
    {
      "cell_type": "code",
      "metadata": {
        "id": "eIaNgc6JktMW",
        "colab_type": "code",
        "colab": {}
      },
      "source": [
        "#@title Ferramenta de gráficos para arquivos .txt"
      ],
      "execution_count": 0,
      "outputs": []
    },
    {
      "cell_type": "code",
      "metadata": {
        "id": "PRnoIMoykw6A",
        "colab_type": "code",
        "colab": {}
      },
      "source": [
        "import matplotlib.pyplot as plt\n",
        "import matplotlib.ticker as tck\n",
        "import scipy.interpolate\n",
        "import numpy as np"
      ],
      "execution_count": 0,
      "outputs": []
    },
    {
      "cell_type": "code",
      "metadata": {
        "id": "4ZcRpxISkuLr",
        "colab_type": "code",
        "colab": {
          "base_uri": "https://localhost:8080/",
          "height": 172
        },
        "outputId": "ec06896a-8481-4832-b4be-92423fe09c55"
      },
      "source": [
        "dados = open(\"dados123.csv\").readlines()"
      ],
      "execution_count": 3,
      "outputs": [
        {
          "output_type": "error",
          "ename": "FileNotFoundError",
          "evalue": "ignored",
          "traceback": [
            "\u001b[0;31m---------------------------------------------------------------------------\u001b[0m",
            "\u001b[0;31mFileNotFoundError\u001b[0m                         Traceback (most recent call last)",
            "\u001b[0;32m<ipython-input-3-0a9ef0950acb>\u001b[0m in \u001b[0;36m<module>\u001b[0;34m()\u001b[0m\n\u001b[0;32m----> 1\u001b[0;31m \u001b[0mdados\u001b[0m \u001b[0;34m=\u001b[0m \u001b[0mopen\u001b[0m\u001b[0;34m(\u001b[0m\u001b[0;34m\"dados123.csv\"\u001b[0m\u001b[0;34m)\u001b[0m\u001b[0;34m.\u001b[0m\u001b[0mreadlines\u001b[0m\u001b[0;34m(\u001b[0m\u001b[0;34m)\u001b[0m\u001b[0;34m\u001b[0m\u001b[0;34m\u001b[0m\u001b[0m\n\u001b[0m",
            "\u001b[0;31mFileNotFoundError\u001b[0m: [Errno 2] No such file or directory: 'dados123.csv'"
          ]
        }
      ]
    },
    {
      "cell_type": "code",
      "metadata": {
        "id": "hjGABEkckuVD",
        "colab_type": "code",
        "colab": {}
      },
      "source": [
        "t=[]\n",
        "f=[]"
      ],
      "execution_count": 0,
      "outputs": []
    },
    {
      "cell_type": "code",
      "metadata": {
        "id": "N8bL-YfOlMjw",
        "colab_type": "code",
        "colab": {}
      },
      "source": [
        "for i in range (len(dados)):\n",
        "  if i !=0:\n",
        "    linha = dados[i]split(\";\")\n",
        "    x.append(float(linha[0]))\n",
        "    y.append(float(linha[1]))\n",
        "   "
      ],
      "execution_count": 0,
      "outputs": []
    },
    {
      "cell_type": "code",
      "metadata": {
        "id": "2vy4FzgYlXY8",
        "colab_type": "code",
        "colab": {}
      },
      "source": [
        "fig1 = plt.gcf() #cria a figura"
      ],
      "execution_count": 0,
      "outputs": []
    },
    {
      "cell_type": "code",
      "metadata": {
        "id": "xhkIxI-0lZIg",
        "colab_type": "code",
        "colab": {}
      },
      "source": [
        "plt.rcParams['figure.figsize'] = (20,12) #tamanho do gráfico\n",
        "fig1, ax = plt.subplots() #anexa os subplots na figura\n",
        "ax.yaxis.set_minor_locator(tck.AutoMinorLocator())"
      ],
      "execution_count": 0,
      "outputs": []
    },
    {
      "cell_type": "code",
      "metadata": {
        "id": "sPuUCq1Mlhdd",
        "colab_type": "code",
        "colab": {}
      },
      "source": [
        "plt.rcParams['figure.figsize'] = (20,12) #tamanho do gráfico\n",
        "fig1, ax = plt.subplots() #anexa os subplots na figura\n",
        "\n",
        "ax.yaxis.set_minor_locator(tck.AutoMinorLocator())"
      ],
      "execution_count": 0,
      "outputs": []
    },
    {
      "cell_type": "markdown",
      "metadata": {
        "id": "lAPk9Rs6m1kI",
        "colab_type": "text"
      },
      "source": [
        "TROCAR O NOME DO TÍTULO DO GRÁFICO E DE CADA EIXO\n"
      ]
    },
    {
      "cell_type": "code",
      "metadata": {
        "id": "otP_4VApmyyD",
        "colab_type": "code",
        "colab": {}
      },
      "source": [
        "plt.title('Terceiro Teste estático CP3  - Força [N] x Tempo [S]') #título do grafico\n",
        "plt.xlabel('Tempo [s]') #nome do eixo x\n",
        "plt.ylabel('Força [N]') #nome do eixo y\n",
        "\n",
        "plt.plot(x, y, color='black', linestyle = '-') #dois graficos em 1\n",
        "plt.scatter(x, y, color='red', marker = '*')#, s= z) #dois graficos em 1\n",
        "plt.fill_between(x,0,y, color = 'grey') #pinta a área sob a curva\n",
        "plt.grid(True) #grade\n",
        "plt.show() #plota\n",
        "#plt.plot(x,y)\n",
        "#####y_interp = scipy.interpolate.interp1d(x, y)\n",
        "#####print (y_interp(33.0))"
      ],
      "execution_count": 0,
      "outputs": []
    },
    {
      "cell_type": "markdown",
      "metadata": {
        "id": "8IdQwvRRmZJS",
        "colab_type": "text"
      },
      "source": [
        "TROCAR O NOME DA FIGURA QUE SERÁ SALVA\n"
      ]
    },
    {
      "cell_type": "code",
      "metadata": {
        "id": "cCtnqGRsljqF",
        "colab_type": "code",
        "colab": {}
      },
      "source": [
        "fig1.savefig('TESTE') #salva a figura em arquivo .png com qualidade em dpi"
      ],
      "execution_count": 0,
      "outputs": []
    },
    {
      "cell_type": "code",
      "metadata": {
        "id": "dPPKdQknm1K4",
        "colab_type": "code",
        "colab": {}
      },
      "source": [
        ""
      ],
      "execution_count": 0,
      "outputs": []
    },
    {
      "cell_type": "code",
      "metadata": {
        "id": "eo8eU9igljs1",
        "colab_type": "code",
        "colab": {}
      },
      "source": [
        "fmax = max(float(number) for number in y)\n",
        "\n",
        "elemento = y.index(fmax)\n",
        "t = (elemento)"
      ],
      "execution_count": 0,
      "outputs": []
    },
    {
      "cell_type": "code",
      "metadata": {
        "id": "aW2HqGtUlwGV",
        "colab_type": "code",
        "colab": {}
      },
      "source": [
        "def integrate(x, y):\n",
        "    area = np.trapz(y=y, x=x)\n",
        "    return area"
      ],
      "execution_count": 0,
      "outputs": []
    },
    {
      "cell_type": "code",
      "metadata": {
        "id": "pXE7zoJflyK3",
        "colab_type": "code",
        "colab": {}
      },
      "source": [
        "print('Impulso =',integrate(x, y),'N.s')\n",
        "integrate(x,y)\n",
        "#max(y, key=float)\n",
        "print('Fmax =',max(float(number) for number in y),'N')\n",
        "print('Instante Fmáx =',x[t],'s')\n",
        "print('Tempo de queima =',x[len(x)-1],'s')"
      ],
      "execution_count": 0,
      "outputs": []
    },
    {
      "cell_type": "code",
      "metadata": {
        "id": "EZtw1yoqlyNn",
        "colab_type": "code",
        "colab": {}
      },
      "source": [
        ""
      ],
      "execution_count": 0,
      "outputs": []
    }
  ]
}